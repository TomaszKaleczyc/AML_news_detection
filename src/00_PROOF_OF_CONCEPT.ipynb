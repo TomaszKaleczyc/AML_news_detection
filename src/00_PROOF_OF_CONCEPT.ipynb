{
 "cells": [
  {
   "cell_type": "code",
   "execution_count": null,
   "metadata": {},
   "outputs": [],
   "source": [
    "%load_ext autoreload\n",
    "%autoreload 2\n",
    "\n",
    "from pathlib import Path\n",
    "\n",
    "import pandas as pd\n",
    "import transformers\n",
    "from sklearn.model_selection import train_test_split\n",
    "\n",
    "from utilities import utils\n",
    "\n",
    "RANDOM_STATE = 5"
   ]
  },
  {
   "cell_type": "code",
   "execution_count": null,
   "metadata": {},
   "outputs": [],
   "source": [
    "data_path = Path('../data/')\n",
    "\n",
    "bbc_data = pd.read_csv(data_path/'BBC_News_Train.csv')\n",
    "utils.df_summarise(bbc_data)"
   ]
  },
  {
   "cell_type": "code",
   "execution_count": null,
   "metadata": {},
   "outputs": [],
   "source": [
    "tokenizer = transformers.BertTokenizer.from_pretrained('bert-base-cased')\n",
    "check_num_of_tokens = lambda row: len(tokenizer(row)['input_ids'])\n",
    "\n",
    "bbc_data['num_of_tokens'] = bbc_data['Text'].apply(check_num_of_tokens)\n",
    "utils.df_summarise(bbc_data)"
   ]
  },
  {
   "cell_type": "code",
   "execution_count": null,
   "metadata": {},
   "outputs": [],
   "source": [
    "bbc_data['num_of_tokens'].plot.hist()\n",
    "bbc_data['num_of_tokens'].describe()"
   ]
  },
  {
   "cell_type": "code",
   "execution_count": null,
   "metadata": {},
   "outputs": [],
   "source": [
    "bbc_data.Category.value_counts().plot.pie(legend=True);"
   ]
  },
  {
   "cell_type": "code",
   "execution_count": null,
   "metadata": {},
   "outputs": [],
   "source": [
    "train, val = train_test_split(\n",
    "    bbc_data, \n",
    "    test_size=0.2, \n",
    "    random_state=RANDOM_STATE, \n",
    "    shuffle=True, \n",
    "    stratify=bbc_data['Category']\n",
    "    )\n",
    "for dataset in [train, val]:\n",
    "    print('='*60)\n",
    "    print(dataset.shape)\n",
    "    print(dataset['Category'].value_counts())"
   ]
  },
  {
   "cell_type": "code",
   "execution_count": null,
   "metadata": {},
   "outputs": [],
   "source": [
    "train.to_csv(data_path/'bbc_train.csv')\n",
    "val.to_csv(data_path/'bbc_val.csv')"
   ]
  },
  {
   "cell_type": "markdown",
   "metadata": {},
   "source": [
    "## Training"
   ]
  },
  {
   "cell_type": "code",
   "execution_count": 1,
   "metadata": {},
   "outputs": [
    {
     "name": "stderr",
     "output_type": "stream",
     "text": [
      "/mnt/d/coding/git/TomaszKaleczyc/AML_news_detection/environment/aml_venv/lib/python3.6/site-packages/pytorch_lightning/metrics/__init__.py:44: LightningDeprecationWarning: `pytorch_lightning.metrics.*` module has been renamed to `torchmetrics.*` and split off to its own package (https://github.com/PyTorchLightning/metrics) since v1.3 and will be removed in v1.5\n",
      "  \"`pytorch_lightning.metrics.*` module has been renamed to `torchmetrics.*` and split off to its own package\"\n"
     ]
    }
   ],
   "source": [
    "from pytorch_lightning.callbacks import ModelCheckpoint\n",
    "from pytorch_lightning import Trainer\n",
    "from pytorch_lightning.callbacks import EarlyStopping\n",
    "\n",
    "from dataset.long_text_data_module import LongTextDataModule\n",
    "from model.long_text_classifier import LongTextClassifier\n",
    "from model.callbacks import SwitchPretrainedWeightsState"
   ]
  },
  {
   "cell_type": "code",
   "execution_count": null,
   "metadata": {},
   "outputs": [],
   "source": [
    "NUM_EPOCHS = 20\n",
    "SEQUENCE_LENGTH = 200\n",
    "SEQUENCE_OVERLAP = 50\n",
    "BATCH_SIZE = 1  # TODO: at the moment model can only handle online learning\n",
    "NUM_FREEZE_PRETRAINED = NUM_EPOCHS\n",
    "CONFIG_PATH = 'settings/bbc_config.yaml'\n",
    "\n",
    "\n",
    "data_module = LongTextDataModule(\n",
    "    config_path=CONFIG_PATH,\n",
    "    sequence_length=SEQUENCE_LENGTH,\n",
    "    overlap=SEQUENCE_OVERLAP\n",
    ")\n",
    "\n",
    "model = LongTextClassifier(\n",
    "    num_classes=data_module.num_classes,\n",
    "    config_path=CONFIG_PATH,\n",
    "    )\n",
    "\n",
    "callbacks = [\n",
    "    SwitchPretrainedWeightsState(),\n",
    "    ModelCheckpoint(\n",
    "        filename=f'BBCClassifier-seq_len{SEQUENCE_LENGTH}-ovlp{SEQUENCE_OVERLAP}'+'-{epoch}-{val/accuracy:.3f}',\n",
    "        monitor='val/accuracy',\n",
    "        mode='max',\n",
    "        save_top_k=1,\n",
    "        verbose=True,\n",
    "    ),\n",
    "    EarlyStopping(\n",
    "        monitor='val/accuracy',\n",
    "        mode='max',\n",
    "        patience=5,\n",
    "        verbose=True,\n",
    "        ),\n",
    "]\n",
    "\n",
    "trainer = Trainer(\n",
    "    max_epochs=NUM_EPOCHS,\n",
    "    fast_dev_run=False,\n",
    "    default_root_dir='../output',\n",
    "    callbacks=callbacks\n",
    ")"
   ]
  },
  {
   "cell_type": "markdown",
   "metadata": {},
   "source": [
    "Training loop:"
   ]
  },
  {
   "cell_type": "code",
   "execution_count": null,
   "metadata": {},
   "outputs": [],
   "source": [
    "trainer.fit(\n",
    "    model,\n",
    "    train_dataloader=data_module.train_dataloader(),\n",
    "    val_dataloaders=data_module.val_dataloader()\n",
    ")"
   ]
  },
  {
   "cell_type": "code",
   "execution_count": null,
   "metadata": {},
   "outputs": [],
   "source": []
  }
 ],
 "metadata": {
  "interpreter": {
   "hash": "2596d97e8b679d214cacdb00e7871335a5232f771c8127b4fea5a93fba7bb57f"
  },
  "kernelspec": {
   "display_name": "Python 3.6.9 ('aml_venv')",
   "language": "python",
   "name": "python3"
  },
  "language_info": {
   "codemirror_mode": {
    "name": "ipython",
    "version": 3
   },
   "file_extension": ".py",
   "mimetype": "text/x-python",
   "name": "python",
   "nbconvert_exporter": "python",
   "pygments_lexer": "ipython3",
   "version": "3.6.9"
  },
  "orig_nbformat": 4
 },
 "nbformat": 4,
 "nbformat_minor": 2
}

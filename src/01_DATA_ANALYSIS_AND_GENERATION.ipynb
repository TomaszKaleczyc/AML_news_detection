{
 "cells": [
  {
   "cell_type": "markdown",
   "metadata": {},
   "source": [
    "For the purpose of this experiment, I've put together a CSV dataset that consists of links to web articles and the labels that were assigned manually during data collection.\n",
    "In this notebook we will explore the data and preprocess them further for the purpose of training the classifier."
   ]
  },
  {
   "cell_type": "markdown",
   "metadata": {},
   "source": [
    "## Imports"
   ]
  },
  {
   "cell_type": "code",
   "execution_count": 9,
   "metadata": {},
   "outputs": [
    {
     "name": "stdout",
     "output_type": "stream",
     "text": [
      "The autoreload extension is already loaded. To reload it, use:\n",
      "  %reload_ext autoreload\n"
     ]
    }
   ],
   "source": [
    "%load_ext autoreload\n",
    "%autoreload 2\n",
    "\n",
    "from pathlib import Path\n",
    "\n",
    "import pandas as pd\n",
    "import transformers\n",
    "from sklearn.model_selection import train_test_split\n",
    "\n",
    "from utilities import utils, web_utils\n",
    "\n",
    "RANDOM_STATE = 5"
   ]
  },
  {
   "cell_type": "markdown",
   "metadata": {},
   "source": [
    "## Data analysis"
   ]
  },
  {
   "cell_type": "code",
   "execution_count": 2,
   "metadata": {},
   "outputs": [
    {
     "data": {
      "text/plain": [
       "(45, 2)"
      ]
     },
     "metadata": {},
     "output_type": "display_data"
    },
    {
     "data": {
      "text/plain": [
       "Index(['article_url', 'article_class'], dtype='object')"
      ]
     },
     "metadata": {},
     "output_type": "display_data"
    },
    {
     "data": {
      "text/html": [
       "<div>\n",
       "<style scoped>\n",
       "    .dataframe tbody tr th:only-of-type {\n",
       "        vertical-align: middle;\n",
       "    }\n",
       "\n",
       "    .dataframe tbody tr th {\n",
       "        vertical-align: top;\n",
       "    }\n",
       "\n",
       "    .dataframe thead th {\n",
       "        text-align: right;\n",
       "    }\n",
       "</style>\n",
       "<table border=\"1\" class=\"dataframe\">\n",
       "  <thead>\n",
       "    <tr style=\"text-align: right;\">\n",
       "      <th></th>\n",
       "      <th>article_url</th>\n",
       "      <th>article_class</th>\n",
       "    </tr>\n",
       "  </thead>\n",
       "  <tbody>\n",
       "    <tr>\n",
       "      <th>0</th>\n",
       "      <td>https://www.wsj.com/articles/natwest-pleads-gu...</td>\n",
       "      <td>aml_cs</td>\n",
       "    </tr>\n",
       "    <tr>\n",
       "      <th>1</th>\n",
       "      <td>https://www.bbc.com/news/business-59689581</td>\n",
       "      <td>aml_aac</td>\n",
       "    </tr>\n",
       "    <tr>\n",
       "      <th>2</th>\n",
       "      <td>https://www.fca.org.uk/news/press-releases/nat...</td>\n",
       "      <td>aml_aac</td>\n",
       "    </tr>\n",
       "    <tr>\n",
       "      <th>3</th>\n",
       "      <td>https://www.ft.com/content/7144ff53-5a17-477b-...</td>\n",
       "      <td>aml_cs</td>\n",
       "    </tr>\n",
       "    <tr>\n",
       "      <th>4</th>\n",
       "      <td>https://www.theguardian.com/australia-news/201...</td>\n",
       "      <td>aml_aac</td>\n",
       "    </tr>\n",
       "  </tbody>\n",
       "</table>\n",
       "</div>"
      ],
      "text/plain": [
       "                                         article_url article_class\n",
       "0  https://www.wsj.com/articles/natwest-pleads-gu...        aml_cs\n",
       "1         https://www.bbc.com/news/business-59689581       aml_aac\n",
       "2  https://www.fca.org.uk/news/press-releases/nat...       aml_aac\n",
       "3  https://www.ft.com/content/7144ff53-5a17-477b-...        aml_cs\n",
       "4  https://www.theguardian.com/australia-news/201...       aml_aac"
      ]
     },
     "metadata": {},
     "output_type": "display_data"
    }
   ],
   "source": [
    "data_path = Path('../data/')\n",
    "\n",
    "article_links = pd.read_csv(data_path/'article_links.csv')\n",
    "utils.df_summarise(article_links)"
   ]
  },
  {
   "cell_type": "markdown",
   "metadata": {},
   "source": [
    "As mentioned, the links have been hand labelled. The intention of the model is to achieve the below goals:\n",
    "1. allow to differentiate between articles related to money laundering activity and those that are not\n",
    "1. for articles that are related to money laundering, we'd like to know if these pertain to one of the below:\n",
    "    * allegations / accusations / charges\n",
    "    * conviction / sentencing\n",
    "\n",
    "We will be building a deep learning model\n",
    "Since we will be using a deep learning model, we will aim to achieve these goals in one go"
   ]
  },
  {
   "cell_type": "code",
   "execution_count": 3,
   "metadata": {},
   "outputs": [],
   "source": [
    "article_links.article_class.value_counts().plot.pie(legend=True);"
   ]
  },
  {
   "cell_type": "code",
   "execution_count": 4,
   "metadata": {},
   "outputs": [
    {
     "data": {
      "text/plain": [
       "(45, 3)"
      ]
     },
     "metadata": {},
     "output_type": "display_data"
    },
    {
     "data": {
      "text/plain": [
       "Index(['article_url', 'article_class', 'contents'], dtype='object')"
      ]
     },
     "metadata": {},
     "output_type": "display_data"
    },
    {
     "data": {
      "text/html": [
       "<div>\n",
       "<style scoped>\n",
       "    .dataframe tbody tr th:only-of-type {\n",
       "        vertical-align: middle;\n",
       "    }\n",
       "\n",
       "    .dataframe tbody tr th {\n",
       "        vertical-align: top;\n",
       "    }\n",
       "\n",
       "    .dataframe thead th {\n",
       "        text-align: right;\n",
       "    }\n",
       "</style>\n",
       "<table border=\"1\" class=\"dataframe\">\n",
       "  <thead>\n",
       "    <tr style=\"text-align: right;\">\n",
       "      <th></th>\n",
       "      <th>article_url</th>\n",
       "      <th>article_class</th>\n",
       "      <th>contents</th>\n",
       "    </tr>\n",
       "  </thead>\n",
       "  <tbody>\n",
       "    <tr>\n",
       "      <th>0</th>\n",
       "      <td>https://www.wsj.com/articles/natwest-pleads-gu...</td>\n",
       "      <td>aml_cs</td>\n",
       "      <td>\\n\\n\\n\\n\\nSkip to Main ContentSkip to Search\\n...</td>\n",
       "    </tr>\n",
       "    <tr>\n",
       "      <th>1</th>\n",
       "      <td>https://www.bbc.com/news/business-59689581</td>\n",
       "      <td>aml_aac</td>\n",
       "      <td>BBC HomepageSkip to contentAccessibility HelpY...</td>\n",
       "    </tr>\n",
       "    <tr>\n",
       "      <th>2</th>\n",
       "      <td>https://www.fca.org.uk/news/press-releases/nat...</td>\n",
       "      <td>aml_aac</td>\n",
       "      <td>\\n\\nSkip to main content\\nSkip to search box\\n...</td>\n",
       "    </tr>\n",
       "    <tr>\n",
       "      <th>3</th>\n",
       "      <td>https://www.ft.com/content/7144ff53-5a17-477b-...</td>\n",
       "      <td>aml_cs</td>\n",
       "      <td>Accessibility helpSkip to navigationSkip to co...</td>\n",
       "    </tr>\n",
       "    <tr>\n",
       "      <th>4</th>\n",
       "      <td>https://www.theguardian.com/australia-news/201...</td>\n",
       "      <td>aml_aac</td>\n",
       "      <td>\\nSkip to main contentSkip to navigationAdvert...</td>\n",
       "    </tr>\n",
       "  </tbody>\n",
       "</table>\n",
       "</div>"
      ],
      "text/plain": [
       "                                         article_url article_class  \\\n",
       "0  https://www.wsj.com/articles/natwest-pleads-gu...        aml_cs   \n",
       "1         https://www.bbc.com/news/business-59689581       aml_aac   \n",
       "2  https://www.fca.org.uk/news/press-releases/nat...       aml_aac   \n",
       "3  https://www.ft.com/content/7144ff53-5a17-477b-...        aml_cs   \n",
       "4  https://www.theguardian.com/australia-news/201...       aml_aac   \n",
       "\n",
       "                                            contents  \n",
       "0  \\n\\n\\n\\n\\nSkip to Main ContentSkip to Search\\n...  \n",
       "1  BBC HomepageSkip to contentAccessibility HelpY...  \n",
       "2  \\n\\nSkip to main content\\nSkip to search box\\n...  \n",
       "3  Accessibility helpSkip to navigationSkip to co...  \n",
       "4  \\nSkip to main contentSkip to navigationAdvert...  "
      ]
     },
     "metadata": {},
     "output_type": "display_data"
    }
   ],
   "source": [
    "articles = article_links.copy()\n",
    "articles['contents'] = articles['article_url'].apply(lambda url: web_utils.get_webpage_body(url))\n",
    "utils.df_summarise(articles)"
   ]
  },
  {
   "cell_type": "code",
   "execution_count": 5,
   "metadata": {},
   "outputs": [
    {
     "name": "stderr",
     "output_type": "stream",
     "text": [
      "Token indices sequence length is longer than the specified maximum sequence length for this model (3890 > 512). Running this sequence through the model will result in indexing errors\n"
     ]
    },
    {
     "data": {
      "text/plain": [
       "(45, 4)"
      ]
     },
     "metadata": {},
     "output_type": "display_data"
    },
    {
     "data": {
      "text/plain": [
       "Index(['article_url', 'article_class', 'contents', 'num_of_tokens'], dtype='object')"
      ]
     },
     "metadata": {},
     "output_type": "display_data"
    },
    {
     "data": {
      "text/html": [
       "<div>\n",
       "<style scoped>\n",
       "    .dataframe tbody tr th:only-of-type {\n",
       "        vertical-align: middle;\n",
       "    }\n",
       "\n",
       "    .dataframe tbody tr th {\n",
       "        vertical-align: top;\n",
       "    }\n",
       "\n",
       "    .dataframe thead th {\n",
       "        text-align: right;\n",
       "    }\n",
       "</style>\n",
       "<table border=\"1\" class=\"dataframe\">\n",
       "  <thead>\n",
       "    <tr style=\"text-align: right;\">\n",
       "      <th></th>\n",
       "      <th>article_url</th>\n",
       "      <th>article_class</th>\n",
       "      <th>contents</th>\n",
       "      <th>num_of_tokens</th>\n",
       "    </tr>\n",
       "  </thead>\n",
       "  <tbody>\n",
       "    <tr>\n",
       "      <th>0</th>\n",
       "      <td>https://www.wsj.com/articles/natwest-pleads-gu...</td>\n",
       "      <td>aml_cs</td>\n",
       "      <td>\\n\\n\\n\\n\\nSkip to Main ContentSkip to Search\\n...</td>\n",
       "      <td>3890</td>\n",
       "    </tr>\n",
       "    <tr>\n",
       "      <th>1</th>\n",
       "      <td>https://www.bbc.com/news/business-59689581</td>\n",
       "      <td>aml_aac</td>\n",
       "      <td>BBC HomepageSkip to contentAccessibility HelpY...</td>\n",
       "      <td>1429</td>\n",
       "    </tr>\n",
       "    <tr>\n",
       "      <th>2</th>\n",
       "      <td>https://www.fca.org.uk/news/press-releases/nat...</td>\n",
       "      <td>aml_aac</td>\n",
       "      <td>\\n\\nSkip to main content\\nSkip to search box\\n...</td>\n",
       "      <td>2119</td>\n",
       "    </tr>\n",
       "    <tr>\n",
       "      <th>3</th>\n",
       "      <td>https://www.ft.com/content/7144ff53-5a17-477b-...</td>\n",
       "      <td>aml_cs</td>\n",
       "      <td>Accessibility helpSkip to navigationSkip to co...</td>\n",
       "      <td>2203</td>\n",
       "    </tr>\n",
       "    <tr>\n",
       "      <th>4</th>\n",
       "      <td>https://www.theguardian.com/australia-news/201...</td>\n",
       "      <td>aml_aac</td>\n",
       "      <td>\\nSkip to main contentSkip to navigationAdvert...</td>\n",
       "      <td>1677</td>\n",
       "    </tr>\n",
       "  </tbody>\n",
       "</table>\n",
       "</div>"
      ],
      "text/plain": [
       "                                         article_url article_class  \\\n",
       "0  https://www.wsj.com/articles/natwest-pleads-gu...        aml_cs   \n",
       "1         https://www.bbc.com/news/business-59689581       aml_aac   \n",
       "2  https://www.fca.org.uk/news/press-releases/nat...       aml_aac   \n",
       "3  https://www.ft.com/content/7144ff53-5a17-477b-...        aml_cs   \n",
       "4  https://www.theguardian.com/australia-news/201...       aml_aac   \n",
       "\n",
       "                                            contents  num_of_tokens  \n",
       "0  \\n\\n\\n\\n\\nSkip to Main ContentSkip to Search\\n...           3890  \n",
       "1  BBC HomepageSkip to contentAccessibility HelpY...           1429  \n",
       "2  \\n\\nSkip to main content\\nSkip to search box\\n...           2119  \n",
       "3  Accessibility helpSkip to navigationSkip to co...           2203  \n",
       "4  \\nSkip to main contentSkip to navigationAdvert...           1677  "
      ]
     },
     "metadata": {},
     "output_type": "display_data"
    }
   ],
   "source": [
    "tokenizer = transformers.BertTokenizer.from_pretrained('bert-base-cased')\n",
    "check_num_of_tokens = lambda row: len(tokenizer(row)['input_ids'])\n",
    "\n",
    "articles['num_of_tokens'] = articles['contents'].apply(check_num_of_tokens)\n",
    "utils.df_summarise(articles)"
   ]
  },
  {
   "cell_type": "code",
   "execution_count": 6,
   "metadata": {},
   "outputs": [
    {
     "data": {
      "text/plain": [
       "count       45.000000\n",
       "mean      2908.866667\n",
       "std       5358.816671\n",
       "min       1089.000000\n",
       "25%       1568.000000\n",
       "50%       1897.000000\n",
       "75%       2458.000000\n",
       "max      37536.000000\n",
       "Name: num_of_tokens, dtype: float64"
      ]
     },
     "execution_count": 6,
     "metadata": {},
     "output_type": "execute_result"
    }
   ],
   "source": [
    "articles['num_of_tokens'].describe()"
   ]
  },
  {
   "cell_type": "markdown",
   "metadata": {},
   "source": [
    "Dataset creation:"
   ]
  },
  {
   "cell_type": "code",
   "execution_count": 25,
   "metadata": {},
   "outputs": [
    {
     "name": "stdout",
     "output_type": "stream",
     "text": [
      "============================================================\n",
      "(30, 4)\n",
      "aml_cs     10\n",
      "aml_aac    10\n",
      "no_aml     10\n",
      "Name: article_class, dtype: int64\n",
      "============================================================\n",
      "(15, 4)\n",
      "aml_cs     5\n",
      "no_aml     5\n",
      "aml_aac    5\n",
      "Name: article_class, dtype: int64\n"
     ]
    }
   ],
   "source": [
    "train, test = train_test_split(\n",
    "    articles, \n",
    "    test_size=0.33, \n",
    "    random_state=RANDOM_STATE, \n",
    "    shuffle=True, \n",
    "    stratify=articles['article_class']\n",
    "    )\n",
    "for dataset in [train, test]:\n",
    "    print('='*60)\n",
    "    print(dataset.shape)\n",
    "    print(dataset['article_class'].value_counts())\n"
   ]
  },
  {
   "cell_type": "code",
   "execution_count": 26,
   "metadata": {},
   "outputs": [],
   "source": [
    "train.to_csv(data_path/'train.csv')\n",
    "test.to_csv(data_path/'test.csv')"
   ]
  },
  {
   "cell_type": "code",
   "execution_count": null,
   "metadata": {},
   "outputs": [],
   "source": []
  }
 ],
 "metadata": {
  "interpreter": {
   "hash": "2596d97e8b679d214cacdb00e7871335a5232f771c8127b4fea5a93fba7bb57f"
  },
  "kernelspec": {
   "display_name": "Python 3.6.9 ('aml_venv')",
   "language": "python",
   "name": "python3"
  },
  "language_info": {
   "codemirror_mode": {
    "name": "ipython",
    "version": 3
   },
   "file_extension": ".py",
   "mimetype": "text/x-python",
   "name": "python",
   "nbconvert_exporter": "python",
   "pygments_lexer": "ipython3",
   "version": "3.6.9"
  },
  "orig_nbformat": 4
 },
 "nbformat": 4,
 "nbformat_minor": 2
}

{
 "cells": [
  {
   "cell_type": "markdown",
   "metadata": {},
   "source": [
    "For the purpose of this experiment, I've put together a CSV dataset that consists of links to web articles and the labels that were assigned manually during data collection.\n",
    "In this notebook we will explore the data and preprocess them further for the purpose of training the classifier."
   ]
  },
  {
   "cell_type": "markdown",
   "metadata": {},
   "source": [
    "## Imports"
   ]
  },
  {
   "cell_type": "code",
   "execution_count": 1,
   "metadata": {},
   "outputs": [],
   "source": [
    "from IPython.display import display\n",
    "from pathlib import Path\n",
    "\n",
    "from matplotlib import pyplot as plt\n",
    "import pandas as pd\n",
    "import transformers\n",
    "from sklearn.model_selection import train_test_split\n",
    "\n",
    "from utilities import utils\n",
    "\n",
    "RANDOM_STATE = 5"
   ]
  },
  {
   "cell_type": "markdown",
   "metadata": {},
   "source": [
    "## Data analysis"
   ]
  },
  {
   "cell_type": "code",
   "execution_count": 2,
   "metadata": {},
   "outputs": [
    {
     "data": {
      "text/plain": [
       "(60, 2)"
      ]
     },
     "metadata": {},
     "output_type": "display_data"
    },
    {
     "data": {
      "text/plain": [
       "Index(['article_url', 'article_class'], dtype='object')"
      ]
     },
     "metadata": {},
     "output_type": "display_data"
    },
    {
     "data": {
      "text/html": [
       "<div>\n",
       "<style scoped>\n",
       "    .dataframe tbody tr th:only-of-type {\n",
       "        vertical-align: middle;\n",
       "    }\n",
       "\n",
       "    .dataframe tbody tr th {\n",
       "        vertical-align: top;\n",
       "    }\n",
       "\n",
       "    .dataframe thead th {\n",
       "        text-align: right;\n",
       "    }\n",
       "</style>\n",
       "<table border=\"1\" class=\"dataframe\">\n",
       "  <thead>\n",
       "    <tr style=\"text-align: right;\">\n",
       "      <th></th>\n",
       "      <th>article_url</th>\n",
       "      <th>article_class</th>\n",
       "    </tr>\n",
       "  </thead>\n",
       "  <tbody>\n",
       "    <tr>\n",
       "      <th>0</th>\n",
       "      <td>https://www.spglobal.com/marketintelligence/en...</td>\n",
       "      <td>aml_cs</td>\n",
       "    </tr>\n",
       "    <tr>\n",
       "      <th>1</th>\n",
       "      <td>https://www.wsj.com/articles/natwest-pleads-gu...</td>\n",
       "      <td>aml_cs</td>\n",
       "    </tr>\n",
       "    <tr>\n",
       "      <th>2</th>\n",
       "      <td>https://www.bbc.com/news/business-59689581</td>\n",
       "      <td>aml_aac</td>\n",
       "    </tr>\n",
       "    <tr>\n",
       "      <th>3</th>\n",
       "      <td>https://www.fca.org.uk/news/press-releases/nat...</td>\n",
       "      <td>aml_aac</td>\n",
       "    </tr>\n",
       "    <tr>\n",
       "      <th>4</th>\n",
       "      <td>https://www.ft.com/content/7144ff53-5a17-477b-...</td>\n",
       "      <td>aml_cs</td>\n",
       "    </tr>\n",
       "  </tbody>\n",
       "</table>\n",
       "</div>"
      ],
      "text/plain": [
       "                                         article_url article_class\n",
       "0  https://www.spglobal.com/marketintelligence/en...        aml_cs\n",
       "1  https://www.wsj.com/articles/natwest-pleads-gu...        aml_cs\n",
       "2         https://www.bbc.com/news/business-59689581       aml_aac\n",
       "3  https://www.fca.org.uk/news/press-releases/nat...       aml_aac\n",
       "4  https://www.ft.com/content/7144ff53-5a17-477b-...        aml_cs"
      ]
     },
     "metadata": {},
     "output_type": "display_data"
    }
   ],
   "source": [
    "data_path = Path('../data/')\n",
    "\n",
    "article_links = pd.read_csv(data_path/'article_links.csv')\n",
    "utils.df_summarise(article_links)"
   ]
  },
  {
   "cell_type": "markdown",
   "metadata": {},
   "source": [
    "The dataset is only 60 observations - extremely low for a Deep Learning problem, and probably not enough for any meaningful algorithm to generalise over the total population. The below excercise is aimed more as an illustration of possible approach.\n",
    "\n",
    "As mentioned, the links have been hand labelled. The intention of the model is to achieve the below goals:\n",
    "1. allow to differentiate between articles related to money laundering activity and those that are not\n",
    "1. for articles that are related to money laundering, we'd like to know if these pertain to one of the below:\n",
    "    * allegations / accusations / charges\n",
    "    * conviction / sentencing\n",
    "\n",
    "Theoretically we could go for a two-step approach, i.e. estimate whether the article is AML related or not and only then ascertain if it pertains to allegations or convictions. However for the purpose of this excercise, we will attempt to estimate these two problems in one go. The argument here is that with enough data (and as we've seen in the proof of concept it means thousands of data points rather than millions) we could teach a neural network to distinguish the nuances between AML news variations.\n",
    "\n",
    "Let's review the class distribution:"
   ]
  },
  {
   "cell_type": "code",
   "execution_count": 3,
   "metadata": {},
   "outputs": [
    {
     "data": {
      "image/png": "[encoded data removed]",
      "text/plain": [
       "<Figure size 432x288 with 1 Axes>"
      ]
     },
     "metadata": {},
     "output_type": "display_data"
    }
   ],
   "source": [
    "article_links.article_class.value_counts().plot.pie(legend=True)\n",
    "plt.show()"
   ]
  },
  {
   "cell_type": "markdown",
   "metadata": {},
   "source": [
    "All classes are equally represented in the current dataset. We will now proceed to extract the contents of the webpages using a custom built function. The logic behind this is this approach could be expanded to collect massive datasets through web scraping for given browser search results that would then only require undemanding manual reviews to check the scraping accuracy.\n",
    "\n",
    "Let's extract the data now:"
   ]
  },
  {
   "cell_type": "code",
   "execution_count": 4,
   "metadata": {},
   "outputs": [
    {
     "data": {
      "text/plain": [
       "(60, 3)"
      ]
     },
     "metadata": {},
     "output_type": "display_data"
    },
    {
     "data": {
      "text/plain": [
       "Index(['article_url', 'article_class', 'contents'], dtype='object')"
      ]
     },
     "metadata": {},
     "output_type": "display_data"
    },
    {
     "data": {
      "text/html": [
       "<div>\n",
       "<style scoped>\n",
       "    .dataframe tbody tr th:only-of-type {\n",
       "        vertical-align: middle;\n",
       "    }\n",
       "\n",
       "    .dataframe tbody tr th {\n",
       "        vertical-align: top;\n",
       "    }\n",
       "\n",
       "    .dataframe thead th {\n",
       "        text-align: right;\n",
       "    }\n",
       "</style>\n",
       "<table border=\"1\" class=\"dataframe\">\n",
       "  <thead>\n",
       "    <tr style=\"text-align: right;\">\n",
       "      <th></th>\n",
       "      <th>article_url</th>\n",
       "      <th>article_class</th>\n",
       "      <th>contents</th>\n",
       "    </tr>\n",
       "  </thead>\n",
       "  <tbody>\n",
       "    <tr>\n",
       "      <th>0</th>\n",
       "      <td>https://www.spglobal.com/marketintelligence/en...</td>\n",
       "      <td>aml_cs</td>\n",
       "      <td>\\n \\n\\n \\n        latest-news-headlines\\n     ...</td>\n",
       "    </tr>\n",
       "    <tr>\n",
       "      <th>1</th>\n",
       "      <td>https://www.wsj.com/articles/natwest-pleads-gu...</td>\n",
       "      <td>aml_cs</td>\n",
       "      <td>\\n\\n\\n\\n\\nSkip to Main ContentSkip to Search\\n...</td>\n",
       "    </tr>\n",
       "    <tr>\n",
       "      <th>2</th>\n",
       "      <td>https://www.bbc.com/news/business-59689581</td>\n",
       "      <td>aml_aac</td>\n",
       "      <td>BBC HomepageSkip to contentAccessibility HelpY...</td>\n",
       "    </tr>\n",
       "    <tr>\n",
       "      <th>3</th>\n",
       "      <td>https://www.fca.org.uk/news/press-releases/nat...</td>\n",
       "      <td>aml_aac</td>\n",
       "      <td>\\n\\nSkip to main content\\nSkip to search box\\n...</td>\n",
       "    </tr>\n",
       "    <tr>\n",
       "      <th>4</th>\n",
       "      <td>https://www.ft.com/content/7144ff53-5a17-477b-...</td>\n",
       "      <td>aml_cs</td>\n",
       "      <td>Accessibility helpSkip to navigationSkip to co...</td>\n",
       "    </tr>\n",
       "  </tbody>\n",
       "</table>\n",
       "</div>"
      ],
      "text/plain": [
       "                                         article_url article_class  \\\n",
       "0  https://www.spglobal.com/marketintelligence/en...        aml_cs   \n",
       "1  https://www.wsj.com/articles/natwest-pleads-gu...        aml_cs   \n",
       "2         https://www.bbc.com/news/business-59689581       aml_aac   \n",
       "3  https://www.fca.org.uk/news/press-releases/nat...       aml_aac   \n",
       "4  https://www.ft.com/content/7144ff53-5a17-477b-...        aml_cs   \n",
       "\n",
       "                                            contents  \n",
       "0  \\n \\n\\n \\n        latest-news-headlines\\n     ...  \n",
       "1  \\n\\n\\n\\n\\nSkip to Main ContentSkip to Search\\n...  \n",
       "2  BBC HomepageSkip to contentAccessibility HelpY...  \n",
       "3  \\n\\nSkip to main content\\nSkip to search box\\n...  \n",
       "4  Accessibility helpSkip to navigationSkip to co...  "
      ]
     },
     "metadata": {},
     "output_type": "display_data"
    }
   ],
   "source": [
    "articles = article_links.copy()\n",
    "articles['contents'] = articles['article_url'].apply(lambda url: utils.get_webpage_body(url))\n",
    "utils.df_summarise(articles)"
   ]
  },
  {
   "cell_type": "markdown",
   "metadata": {},
   "source": [
    "Let's look at some example contents:"
   ]
  },
  {
   "cell_type": "code",
   "execution_count": 5,
   "metadata": {},
   "outputs": [
    {
     "data": {
      "text/plain": [
       "'aml_cs'"
      ]
     },
     "metadata": {},
     "output_type": "display_data"
    },
    {
     "data": {
      "text/plain": [
       "'\\n\\n \\n\\nSkip to content\\n\\n\\n\\n\\n\\t\\t\\tContinuing Coverage\\t\\t\\n\\n\\n\\t\\t\\t\\tSecond man arrested on gun charges connected to the Sacramento mass shooting, police say. Tap/click for details.\\t\\t\\t\\n\\n\\n\\n\\n\\n\\n \\n\\n\\n\\n\\nMain Navigation\\n\\n\\n\\n\\nSearch\\n\\n\\n\\n\\nSearch for:\\n\\n\\n\\n\\n\\n\\n\\n\\n\\nLocal\\nWeather\\nInvestigations\\nVideo\\nOlympics\\nEntertainment\\nSports\\nNewsletters\\n \\n\\n\\n\\nLive TV\\n\\n\\nShare\\nClose\\n\\n\\n \\n \\n\\n\\n\\nTrending\\n\\nForecast: Warmer Temps Incoming\\nSacramento Mass Shooting\\nMother\\'s Warning After Tragedy\\nCheapest Gas in Bay Area\\nSaving SF\\nLive Updates: Russia-Ukraine Crisis\\n\\n\\nExpand\\n\\n\\n\\n\\n\\n \\n \\n\\n\\n\\n\\n\\n\\n\\n\\n\\n\\n\\n\\ncrime \\n\\n\\n\\n\\t\\tRetired SJ Cop Sentenced for Millions in Insurance Fraud, Money Laundering\\t\\n\\n\\n\\t\\t\\t\\t\\tBy Bay City News •\\n\\nPublished March 29, 2022 •\\nUpdated on March 29, 2022 at 9:37 pm \\n\\n\\n\\n\\n\\n\\n\\n\\n\\n\\n\\n\\n\\n\\n\\n\\n\\n\\n\\n\\n\\n\\n\\n\\nA retired San Jose Police officer was sentenced to three years in jail on Tuesday for using a side security business to commit millions of dollars in insurance fraud, money laundering, tax evasion and worker exploitation, the Santa Clara District Attorney\\'s Office said.\\xa0\\xa0\\nRobert Foster, 48, of Morgan Hill, was convicted of several felonies, including 173 acts of conspiring to commit $1.3 million in insurance fraud and $18 million in money laundering to cover it up, the DA\\'s office said.\\xa0\\xa0\\nFoster owns Atlas Private Security (now Genesis Private Security) with his wife, Makaila Foster, 46, who also pleaded no contest to the same insurance fraud and money laundering charges, according to prosecutors. She will be sentenced to a year in jail and five years of probation beginning on April 20.\\xa0\\xa0\\xa0\\nThe six-month investigation into the Fosters uncovered many crimes carried out as managers of the security company. The Fosters illegally reduced their workers\\' compensation insurance premiums and taxes by reporting false and inaccurate payrolls, underreporting headcounts, paying employees off-the-books, and underreporting employee injuries, the DA said. The couple also failed to employees overtime and dissuaded those employees from accurately reporting on-the-job injuries and wage-theft violations.\\xa0\\xa0\\n\\n\\n\\nStay informed about local news and weather. Get the NBC Bay Area app for iOS or Android and pick your alerts. \\n\\n\\nThe probe also uncovered that the Fosters hid millions of dollars of payroll through a complex subcontractor-masking scheme. According to the DA, employees were paid by a different security company, Defense Protection Group, which had no knowledge of the employees\\' hours, wages, or schedules. Instead, the DA asserts, DPG simply moved money from the Fosters\\' firm to the employees so that the couple could avoid paying their fair share of taxes, workers comp insurance and overtime wages.\\xa0\\xa0\\nBefore sentencing, Foster paid $1.3 million in restitution to Everest National Insurance and the Employment Development Department, the DA said. A general order of restitution for exploited workers was also given.\\xa0\\xa0\\n\"No one is above accountability for illegally trying to make a profit on the backs and injured bodies of their workers,\" said Santa Clara District Attorney Jeff Rosen.\\n\\nCopyright BAYCN - Bay City News\\n\\n\\nThis article tagged under:\\ncrimeSan JoseSan Jose Police Departmentinsurance fraudmoney laundering\\n\\n\\n\\n\\n\\n\\n\\n\\n\\n\\n\\n\\n\\n\\n\\n \\n\\n\\n\\n\\n\\n\\n\\n \\nTrending Stories\\n\\n \\n\\n\\n\\n\\n\\n\\n\\n\\n\\n\\n\\n\\t\\t\\t\\t\\t\\t\\t\\t\\tMaking It in the Bay\\t\\t\\t\\t\\t\\t\\t\\t\\n\\n\\n\\n\\t\\t\\t\\t\\t\\t\\t\\tMiddle Class Being Priced Out of Bay Area Housing Market: Report\\t\\t\\t\\t\\t\\t\\t\\n\\n\\n\\n\\n\\n\\n\\n\\n\\n\\n\\n\\n\\t\\t\\t\\t\\t\\t\\t\\t\\tcrime\\t\\t\\t\\t\\t\\t\\t\\t\\n\\n\\n\\n\\t\\t\\t\\t\\t\\t\\t\\t2 French Bulldogs Taken at Brazen Home Invasion in Santa Clara\\t\\t\\t\\t\\t\\t\\t\\n\\n\\n\\n\\n\\n\\n\\n\\n\\n\\n\\n\\n\\t\\t\\t\\t\\t\\t\\t\\t\\tSan Jose\\t\\t\\t\\t\\t\\t\\t\\t\\n\\n\\n\\n\\t\\t\\t\\t\\t\\t\\t\\tMother Issues Warning After Teen Son Dies by Suicide Over Cyber Blackmail\\t\\t\\t\\t\\t\\t\\t\\n\\n\\n\\n\\n\\n\\n\\n\\n\\n\\n\\n\\n\\t\\t\\t\\t\\t\\t\\t\\t\\tsacramento mass shooting\\t\\t\\t\\t\\t\\t\\t\\t\\n\\n\\n\\n\\t\\t\\t\\t\\t\\t\\t\\tOfficial: Sacramento Shooting Suspect Seen on Video With Gun\\t\\t\\t\\t\\t\\t\\t\\n\\n\\n\\n\\n\\n\\n\\n\\n\\n\\nSponsored\\n\\n\\n\\t\\t\\t\\t\\t\\t\\t\\tHow a Critical Organ Donation Saved Baby Maya\\'s Life\\t\\t\\t\\t\\t\\t\\t\\n\\n\\n\\t\\t\\t\\t\\t\\t\\t\\tPromoted By Stanford Children\\'s Health\\t\\t\\t\\t\\t\\t\\t\\n\\n\\n\\n \\n\\nWeather Forecast\\n\\n\\n\\n\\n \\n\\n\\n \\n\\n\\n\\n\\n\\n\\n\\n\\n\\n\\n\\n\\n\\n\\n\\nFacebook\\n\\n\\n\\n\\n\\nTwitter\\n\\n\\n\\n\\n\\nInstagram\\n\\n\\n\\n\\n\\nSubmit Tips for Investigations\\nNewsletters\\nConnect With Us\\nSend Feedback\\nKNTV Employment Information\\nFCC Applications\\nTerms of Service\\nPrivacy Policy\\nDo Not Sell My Personal Information\\nAdvertise with us\\nKNTV Public Inspection File\\nCA Notice\\nAd Choices\\n\\n\\n\\n\\t\\t\\t\\tCopyright © 2022 NBCUniversal Media, LLC. All rights reserved\\t\\t\\t\\n\\n\\n\\n\\n\\n\\n\\n\\n\\n\\n\\n\\n\\n Back to Article\\n\\n\\n\\n Close Menu\\n\\n\\n\\n\\n\\n\\n\\n\\nSearch for:\\n\\n\\n\\n\\n\\n\\n\\n\\n\\t\\t\\t\\t\\tLocal\\t\\t\\t\\t\\n\\n\\t\\t\\t\\t\\tCoronavirus Pandemic\\t\\t\\t\\t\\n\\n\\t\\t\\t\\t\\tClimate in Crisis\\t\\t\\t\\t\\n\\n\\t\\t\\t\\t\\tState\\t\\t\\t\\t\\n\\n\\t\\t\\t\\t\\tU.S. & World\\t\\t\\t\\t\\n\\n\\t\\t\\t\\t\\tSports\\t\\t\\t\\t\\n\\n\\t\\t\\t\\t\\tWinter Olympics\\t\\t\\t\\t\\n\\n\\t\\t\\t\\t\\tThe Investigative Unit\\t\\t\\t\\t\\n\\n\\t\\t\\t\\t\\tNo Man\\'s Land\\t\\t\\t\\t\\n\\n\\t\\t\\t\\t\\tThe Moms of Magnolia Street\\t\\t\\t\\t\\n\\n\\t\\t\\t\\t\\tNBC Bay Area Responds\\t\\t\\t\\t\\n\\n\\t\\t\\t\\t\\tSubmit a consumer complaint\\t\\t\\t\\t\\n\\n\\t\\t\\t\\t\\tHow To Explainers\\t\\t\\t\\t\\n\\n\\t\\t\\t\\t\\tCalifornia Live\\t\\t\\t\\t\\n\\n\\t\\t\\t\\t\\tWeather\\t\\t\\t\\t\\n\\n\\t\\t\\t\\t\\tWeather Alerts\\t\\t\\t\\t\\n\\n\\t\\t\\t\\t\\tNBCLX\\t\\t\\t\\t\\n\\n\\t\\t\\t\\t\\tEntertainment\\t\\t\\t\\t\\n\\n\\t\\t\\t\\t\\tVideo\\t\\t\\t\\t\\n\\n\\t\\t\\t\\t\\tTraffic\\t\\t\\t\\t\\n\\n\\n\\n\\t\\t\\t\\t\\tCommunity\\t\\t\\t\\t\\n\\n\\t\\t\\t\\t\\tAbout Us\\t\\t\\t\\t\\n\\n\\t\\t\\t\\t\\tTV Schedule\\t\\t\\t\\t\\n\\n\\t\\t\\t\\t\\tSubmit Photos and Video\\t\\t\\t\\t\\n\\n\\t\\t\\t\\t\\tContests\\t\\t\\t\\t\\n\\n\\t\\t\\t\\t\\tNewsletters\\t\\t\\t\\t\\n\\n\\t\\t\\t\\t\\tOur Apps\\t\\t\\t\\t\\n\\n\\t\\t\\t\\t\\tCozi TV\\t\\t\\t\\t\\n\\n\\n\\nFollow Us\\n\\n\\n\\nFacebook\\n\\n\\n\\n\\n\\nTwitter\\n\\n\\n\\n\\n\\nInstagram\\n\\n\\n\\n\\n\\n\\n\\n\\tContact Us\\n\\n\\n\\n\\n\\n\\n\\n\\n\\n\\n\\n\\n\\n\\n\\n\\n\\n\\n\\n\\n\\n\\n\\n\\n\\n\\n\\n\\n'"
      ]
     },
     "metadata": {},
     "output_type": "display_data"
    }
   ],
   "source": [
    "idx = 58\n",
    "for column in ['article_class', 'contents']:\n",
    "    display(articles[column].iloc[idx])"
   ]
  },
  {
   "cell_type": "markdown",
   "metadata": {},
   "source": [
    "The extraction process could potentially be improved further given time. As we will see in a moment however, a lot of the problems with the contents will be removed in the tokenisation process.\n",
    "\n",
    "For tokenisation, we will use the dedicated pretrained English tokeniser for the BERT model: "
   ]
  },
  {
   "cell_type": "code",
   "execution_count": 6,
   "metadata": {},
   "outputs": [
    {
     "name": "stderr",
     "output_type": "stream",
     "text": [
      "Token indices sequence length is longer than the specified maximum sequence length for this model (947 > 512). Running this sequence through the model will result in indexing errors\n"
     ]
    },
    {
     "data": {
      "text/plain": [
       "'[CLS] Skip to content Continuing Coverage Second man arrested on gun charges connected to the Sacramento mass shooting, police say. Tap / click for details. Main Navigation Search Search for : Local Weather Investigations Video Olympics Entertainment Sports Newsletters Live TV Share Close Trending Forecast : Warmer Temps Incoming Sacramento Mass Shooting Mother\\'s Warning After Tragedy Cheapest Gas in Bay Area Saving SF Live Updates : Russia - Ukraine Crisis Expand crime Retired SJ Cop Sentenced for Millions in Insurance Fraud, Money Laundering By Bay City News • Published March 29, 2022 • Updated on March 29, 2022 at 9 : 37 pm A retired San Jose Police officer was sentenced to three years in jail on Tuesday for using a side security business to commit millions of dollars in insurance fraud, money laundering, tax evasion and worker exploitation, the Santa Clara District Attorney\\'s Office said. Robert Foster, 48, of Morgan Hill, was convicted of several felonies, including 173 acts of conspiring to commit $ 1. 3 million in insurance fraud and $ 18 million in money laundering to cover it up, the DA\\'s office said. Foster owns Atlas Private Security ( now Genesis Private Security ) with his wife, Makaila Foster, 46, who also pleaded no contest to the same insurance fraud and money laundering charges, according to prosecutors. She will be sentenced to a year in jail and five years of probation beginning on April 20. The six - month investigation into the Fosters uncovered many crimes carried out as managers of the security company. The Fosters illegally reduced their workers\\'compensation insurance premiums and taxes by reporting false and inaccurate payrolls, underreporting headcounts, paying employees off - the - books, and underreporting employee injuries, the DA said. The couple also failed to employees overtime and dissuaded those employees from accurately reporting on - the - job injuries and wage - theft violations. Stay informed about local news and weather. Get the NBC Bay Area app for iOS or Android and pick your alerts. The probe also uncovered that the Fosters hid millions of dollars of payroll through a complex subcontractor - masking scheme. According to the DA, employees were paid by a different security company, Defense Protection Group, which had no knowledge of the employees\\'hours, wages, or schedules. Instead, the DA asserts, DPG simply moved money from the Fosters\\'firm to the employees so that the couple could avoid paying their fair share of taxes, workers comp insurance and overtime wages. Before sentencing, Foster paid $ 1. 3 million in restitution to Everest National Insurance and the Employment Development Department, the DA said. A general order of restitution for exploited workers was also given. \" No one is above accountability for illegally trying to make a profit on the backs and injured bodies of their workers, \" said Santa Clara District Attorney Jeff Rosen. Copyright BAYCN - Bay City News This article tagged under : crimeSan JoseSan Jose Police Departmentinsurance fraudmoney laundering Trending Stories Making It in the Bay Middle Class Being Priced Out of Bay Area Housing Market : Report crime 2 French Bulldogs Taken at Brazen Home Invasion in Santa Clara San Jose Mother Issues Warning After Teen Son Dies by Suicide Over Cyber Blackmail sacramento mass shooting Official : Sacramento Shooting Suspect Seen on Video With Gun Sponsored How a Critical Organ Donation Saved Baby Maya\\'s Life Promoted By Stanford Children\\'s Health Weather Forecast Facebook Twitter Instagram Submit Tips for Investigations Newsletters Connect With Us Send Feedback KNTV Employment Information FCC Applications Terms of Service Privacy Policy Do Not Sell My Personal Information Advertise with us KNTV Public Inspection File CA Notice Ad Choices Copyright © 2022 NBCUniversal Media, LLC. All rights reserved Back to Article Close Menu Search for : Local Coronavirus Pandemic Climate in Crisis State U. S. & World Sports Winter Olympics The Investigative Unit No Man\\'s Land The Moms of Magnolia Street NBC Bay Area Responds Submit a consumer complaint How To Explainers California Live Weather Weather Alerts NBCLX Entertainment Video Traffic Community About Us TV Schedule Submit Photos and Video Contests Newsletters Our Apps Cozi TV Follow Us Facebook Twitter Instagram Contact Us [SEP]'"
      ]
     },
     "execution_count": 6,
     "metadata": {},
     "output_type": "execute_result"
    }
   ],
   "source": [
    "tokenizer = transformers.BertTokenizer.from_pretrained('bert-base-cased')\n",
    "\n",
    "tokens = tokenizer(articles['contents'].iloc[idx])\n",
    "tokenizer.decode(tokens['input_ids'])"
   ]
  },
  {
   "cell_type": "markdown",
   "metadata": {},
   "source": [
    "The unnecessary non-alphanumeric characters have been removed. There are still some leftovers at the start and end of the contents coming from the page header and footer. This shows why using a naive approach like head / tail only would probably fail - the contents we're after are actually in the middle part of the article.\n",
    "\n",
    "At this point we could decide to use a simpler algorithm that would be based on the popular bag-of-words approach, i.e. classifying articles based on keyword frequency. The downside of such an approach however is loosing contextual information stored within the sequences themselves. This is important as among the non-AML related examples you will find articles e.g. about financial penalties of other kinds or Acute Myeloid Leukemia (AML for short) treatment. For such articles, sequence context becomes important. Therefore, Transformer based approach is still our choice for the matter for now - although given more time it would be interesting to compare the model performance to a bag-of-words baseline.\n",
    "\n",
    "As in the proof-of-concept, we'll measure article length in terms of tokens:"
   ]
  },
  {
   "cell_type": "code",
   "execution_count": 7,
   "metadata": {},
   "outputs": [
    {
     "data": {
      "text/plain": [
       "(60, 4)"
      ]
     },
     "metadata": {},
     "output_type": "display_data"
    },
    {
     "data": {
      "text/plain": [
       "Index(['article_url', 'article_class', 'contents', 'num_of_tokens'], dtype='object')"
      ]
     },
     "metadata": {},
     "output_type": "display_data"
    },
    {
     "data": {
      "text/html": [
       "<div>\n",
       "<style scoped>\n",
       "    .dataframe tbody tr th:only-of-type {\n",
       "        vertical-align: middle;\n",
       "    }\n",
       "\n",
       "    .dataframe tbody tr th {\n",
       "        vertical-align: top;\n",
       "    }\n",
       "\n",
       "    .dataframe thead th {\n",
       "        text-align: right;\n",
       "    }\n",
       "</style>\n",
       "<table border=\"1\" class=\"dataframe\">\n",
       "  <thead>\n",
       "    <tr style=\"text-align: right;\">\n",
       "      <th></th>\n",
       "      <th>article_url</th>\n",
       "      <th>article_class</th>\n",
       "      <th>contents</th>\n",
       "      <th>num_of_tokens</th>\n",
       "    </tr>\n",
       "  </thead>\n",
       "  <tbody>\n",
       "    <tr>\n",
       "      <th>0</th>\n",
       "      <td>https://www.spglobal.com/marketintelligence/en...</td>\n",
       "      <td>aml_cs</td>\n",
       "      <td>\\n \\n\\n \\n        latest-news-headlines\\n     ...</td>\n",
       "      <td>2063</td>\n",
       "    </tr>\n",
       "    <tr>\n",
       "      <th>1</th>\n",
       "      <td>https://www.wsj.com/articles/natwest-pleads-gu...</td>\n",
       "      <td>aml_cs</td>\n",
       "      <td>\\n\\n\\n\\n\\nSkip to Main ContentSkip to Search\\n...</td>\n",
       "      <td>3840</td>\n",
       "    </tr>\n",
       "    <tr>\n",
       "      <th>2</th>\n",
       "      <td>https://www.bbc.com/news/business-59689581</td>\n",
       "      <td>aml_aac</td>\n",
       "      <td>BBC HomepageSkip to contentAccessibility HelpY...</td>\n",
       "      <td>1427</td>\n",
       "    </tr>\n",
       "    <tr>\n",
       "      <th>3</th>\n",
       "      <td>https://www.fca.org.uk/news/press-releases/nat...</td>\n",
       "      <td>aml_aac</td>\n",
       "      <td>\\n\\nSkip to main content\\nSkip to search box\\n...</td>\n",
       "      <td>2119</td>\n",
       "    </tr>\n",
       "    <tr>\n",
       "      <th>4</th>\n",
       "      <td>https://www.ft.com/content/7144ff53-5a17-477b-...</td>\n",
       "      <td>aml_cs</td>\n",
       "      <td>Accessibility helpSkip to navigationSkip to co...</td>\n",
       "      <td>2255</td>\n",
       "    </tr>\n",
       "  </tbody>\n",
       "</table>\n",
       "</div>"
      ],
      "text/plain": [
       "                                         article_url article_class  \\\n",
       "0  https://www.spglobal.com/marketintelligence/en...        aml_cs   \n",
       "1  https://www.wsj.com/articles/natwest-pleads-gu...        aml_cs   \n",
       "2         https://www.bbc.com/news/business-59689581       aml_aac   \n",
       "3  https://www.fca.org.uk/news/press-releases/nat...       aml_aac   \n",
       "4  https://www.ft.com/content/7144ff53-5a17-477b-...        aml_cs   \n",
       "\n",
       "                                            contents  num_of_tokens  \n",
       "0  \\n \\n\\n \\n        latest-news-headlines\\n     ...           2063  \n",
       "1  \\n\\n\\n\\n\\nSkip to Main ContentSkip to Search\\n...           3840  \n",
       "2  BBC HomepageSkip to contentAccessibility HelpY...           1427  \n",
       "3  \\n\\nSkip to main content\\nSkip to search box\\n...           2119  \n",
       "4  Accessibility helpSkip to navigationSkip to co...           2255  "
      ]
     },
     "metadata": {},
     "output_type": "display_data"
    }
   ],
   "source": [
    "check_num_of_tokens = lambda row: len(tokenizer(row)['input_ids'])\n",
    "\n",
    "articles['num_of_tokens'] = articles['contents'].apply(check_num_of_tokens)\n",
    "utils.df_summarise(articles)"
   ]
  },
  {
   "cell_type": "markdown",
   "metadata": {},
   "source": [
    "And the article length distribution:"
   ]
  },
  {
   "cell_type": "code",
   "execution_count": 8,
   "metadata": {},
   "outputs": [
    {
     "data": {
      "text/plain": [
       "count      60.000000\n",
       "mean     2180.783333\n",
       "std      1036.875033\n",
       "min       156.000000\n",
       "25%      1555.000000\n",
       "50%      1868.000000\n",
       "75%      2527.250000\n",
       "max      5455.000000\n",
       "Name: num_of_tokens, dtype: float64"
      ]
     },
     "execution_count": 8,
     "metadata": {},
     "output_type": "execute_result"
    },
    {
     "data": {
      "image/png": "[encoded data removed]",
      "text/plain": [
       "<Figure size 432x288 with 1 Axes>"
      ]
     },
     "metadata": {
      "needs_background": "light"
     },
     "output_type": "display_data"
    }
   ],
   "source": [
    "articles['num_of_tokens'].plot.hist()\n",
    "articles['num_of_tokens'].describe()"
   ]
  },
  {
   "cell_type": "markdown",
   "metadata": {},
   "source": [
    "The articles in our AML dataset are considerably longer then the ones in the BBC dataset - proving our approach should be robust to variable article length, as we expect RoBERT to be."
   ]
  },
  {
   "cell_type": "markdown",
   "metadata": {},
   "source": [
    "## Dataset generation"
   ]
  },
  {
   "cell_type": "markdown",
   "metadata": {},
   "source": [
    "Again, we will hold out 20% of the dataset. Here, this will mean our validation set will only have 12 examples. We will preserve the class distributions using the `stratify` argument to ensure we have a balanced view on the model performance:"
   ]
  },
  {
   "cell_type": "code",
   "execution_count": 9,
   "metadata": {},
   "outputs": [
    {
     "name": "stdout",
     "output_type": "stream",
     "text": [
      "============================================================\n",
      "(48, 4)\n",
      "aml_aac    16\n",
      "no_aml     16\n",
      "aml_cs     16\n",
      "Name: article_class, dtype: int64\n",
      "============================================================\n",
      "(12, 4)\n",
      "no_aml     4\n",
      "aml_aac    4\n",
      "aml_cs     4\n",
      "Name: article_class, dtype: int64\n"
     ]
    }
   ],
   "source": [
    "train, val = train_test_split(\n",
    "    articles, \n",
    "    test_size=0.2, \n",
    "    random_state=RANDOM_STATE, \n",
    "    shuffle=True, \n",
    "    stratify=articles['article_class']\n",
    "    )\n",
    "for dataset in [train, val]:\n",
    "    print('='*60)\n",
    "    print(dataset.shape)\n",
    "    print(dataset['article_class'].value_counts())\n"
   ]
  },
  {
   "cell_type": "code",
   "execution_count": 10,
   "metadata": {},
   "outputs": [],
   "source": [
    "train.to_csv(data_path/'aml_train.csv')\n",
    "val.to_csv(data_path/'aml_val.csv')"
   ]
  },
  {
   "cell_type": "markdown",
   "metadata": {},
   "source": [
    "## Model training"
   ]
  },
  {
   "cell_type": "markdown",
   "metadata": {},
   "source": [
    "Training related imports:"
   ]
  },
  {
   "cell_type": "code",
   "execution_count": 11,
   "metadata": {},
   "outputs": [],
   "source": [
    "from pytorch_lightning.callbacks import ModelCheckpoint\n",
    "from pytorch_lightning import Trainer\n",
    "from pytorch_lightning.callbacks import EarlyStopping\n",
    "\n",
    "from dataset.long_text_data_module import LongTextDataModule\n",
    "from model.long_text_classifier import LongTextClassifier\n",
    "from model.callbacks import SwitchPretrainedWeightsState"
   ]
  },
  {
   "cell_type": "markdown",
   "metadata": {},
   "source": [
    "Detailed configuration can be found in the `aml_config.yaml` file.\n",
    "\n",
    "Because our dataset is so small, we will artificially increase the training set using an upsampling scheme - it will be increased by a factor of 10 to allow model convergence:"
   ]
  },
  {
   "cell_type": "code",
   "execution_count": 12,
   "metadata": {},
   "outputs": [
    {
     "name": "stderr",
     "output_type": "stream",
     "text": [
      "Some weights of the model checkpoint at bert-base-cased were not used when initializing BertModel: ['cls.predictions.transform.dense.weight', 'cls.seq_relationship.weight', 'cls.predictions.decoder.weight', 'cls.predictions.transform.LayerNorm.bias', 'cls.predictions.transform.dense.bias', 'cls.seq_relationship.bias', 'cls.predictions.transform.LayerNorm.weight', 'cls.predictions.bias']\n",
      "- This IS expected if you are initializing BertModel from the checkpoint of a model trained on another task or with another architecture (e.g. initializing a BertForSequenceClassification model from a BertForPreTraining model).\n",
      "- This IS NOT expected if you are initializing BertModel from the checkpoint of a model that you expect to be exactly identical (initializing a BertForSequenceClassification model from a BertForSequenceClassification model).\n",
      "GPU available: True, used: True\n",
      "TPU available: None, using: 0 TPU cores\n"
     ]
    }
   ],
   "source": [
    "NUM_EPOCHS = 20\n",
    "SEQUENCE_LENGTH = 200\n",
    "SEQUENCE_OVERLAP = 50\n",
    "BATCH_SIZE = 1  # TODO: at the moment model can only handle online learning\n",
    "NUM_FREEZE_PRETRAINED = 0\n",
    "CONFIG_PATH = 'settings/aml_config.yaml'\n",
    "\n",
    "\n",
    "data_module = LongTextDataModule(\n",
    "    config_path=CONFIG_PATH,\n",
    "    sequence_length=SEQUENCE_LENGTH,\n",
    "    overlap=SEQUENCE_OVERLAP\n",
    ")\n",
    "\n",
    "model = LongTextClassifier(\n",
    "    num_classes=data_module.num_classes,\n",
    "    config_path=CONFIG_PATH,\n",
    "    num_epochs_freeze_pretrained=NUM_FREEZE_PRETRAINED,\n",
    "    )\n",
    "\n",
    "callbacks = [\n",
    "    SwitchPretrainedWeightsState(),\n",
    "    ModelCheckpoint(\n",
    "        filename=f'AMLClassifier-seq_len{SEQUENCE_LENGTH}-ovlp{SEQUENCE_OVERLAP}'+'-{epoch}-{val/accuracy:.3f}',\n",
    "        monitor='val/accuracy',\n",
    "        mode='max',\n",
    "        save_top_k=1,\n",
    "        verbose=True,\n",
    "    ),\n",
    "    EarlyStopping(\n",
    "        monitor='val/accuracy',\n",
    "        mode='max',\n",
    "        patience=10,\n",
    "        verbose=True,\n",
    "        ),\n",
    "]\n",
    "\n",
    "trainer = Trainer(\n",
    "    max_epochs=NUM_EPOCHS,\n",
    "    fast_dev_run=False,\n",
    "    default_root_dir='../output',\n",
    "    callbacks=callbacks,\n",
    "    gpus=1,\n",
    ")"
   ]
  },
  {
   "cell_type": "code",
   "execution_count": 13,
   "metadata": {},
   "outputs": [
    {
     "name": "stdout",
     "output_type": "stream",
     "text": [
      "Upsampled 480 samples\n",
      "Tokenisation of content strips:\n"
     ]
    },
    {
     "data": {
      "application/vnd.jupyter.widget-view+json": {
       "model_id": "ef6b0984e6a74e9eb41214096f02d526",
       "version_major": 2,
       "version_minor": 0
      },
      "text/plain": [
       "  0%|          | 0/528 [00:00<?, ?it/s]"
      ]
     },
     "metadata": {},
     "output_type": "display_data"
    },
    {
     "name": "stdout",
     "output_type": "stream",
     "text": [
      "============================================================\n",
      "Loaded dataset aml_train\n",
      "Number of tokens: 528\n",
      "Number of classes: 3\n",
      "Tokenisation of content strips:\n"
     ]
    },
    {
     "data": {
      "application/vnd.jupyter.widget-view+json": {
       "model_id": "eb53f3af36224e37b318f89df346367c",
       "version_major": 2,
       "version_minor": 0
      },
      "text/plain": [
       "  0%|          | 0/12 [00:00<?, ?it/s]"
      ]
     },
     "metadata": {},
     "output_type": "display_data"
    },
    {
     "name": "stdout",
     "output_type": "stream",
     "text": [
      "============================================================\n",
      "Loaded dataset aml_val\n",
      "Number of tokens: 12\n",
      "Number of classes: 3\n"
     ]
    },
    {
     "name": "stderr",
     "output_type": "stream",
     "text": [
      "/home/tkaleczy/git/AML_news_detection/environment/aml_venv/lib/python3.8/site-packages/transformers/optimization.py:306: FutureWarning: This implementation of AdamW is deprecated and will be removed in a future version. Use the PyTorch implementation torch.optim.AdamW instead, or set `no_deprecation_warning=True` to disable this warning\n",
      "  warnings.warn(\n",
      "\n",
      "  | Name                | Type       | Params\n",
      "---------------------------------------------------\n",
      "0 | feature_extractor   | BertModel  | 108 M \n",
      "1 | aggregating_network | LSTM       | 348 K \n",
      "2 | predictor           | Sequential | 3.1 K \n",
      "3 | accuracy            | Accuracy   | 0     \n",
      "---------------------------------------------------\n",
      "108 M     Trainable params\n",
      "0         Non-trainable params\n",
      "108 M     Total params\n",
      "434.646   Total estimated model params size (MB)\n"
     ]
    },
    {
     "data": {
      "application/vnd.jupyter.widget-view+json": {
       "model_id": "61ec26008a1f429ab64e81ce89926ce4",
       "version_major": 2,
       "version_minor": 0
      },
      "text/plain": [
       "Validation sanity check: 0it [00:00, ?it/s]"
      ]
     },
     "metadata": {},
     "output_type": "display_data"
    },
    {
     "name": "stdout",
     "output_type": "stream",
     "text": [
      "val/accuracy 0.5\n"
     ]
    },
    {
     "data": {
      "application/vnd.jupyter.widget-view+json": {
       "model_id": "4d106904f8f54f31b414a31b80ec6831",
       "version_major": 2,
       "version_minor": 0
      },
      "text/plain": [
       "Training: 0it [00:00, ?it/s]"
      ]
     },
     "metadata": {},
     "output_type": "display_data"
    },
    {
     "data": {
      "application/vnd.jupyter.widget-view+json": {
       "model_id": "cfe4e5db43e8467e829993f42fa9ddf7",
       "version_major": 2,
       "version_minor": 0
      },
      "text/plain": [
       "Validating: 0it [00:00, ?it/s]"
      ]
     },
     "metadata": {},
     "output_type": "display_data"
    },
    {
     "name": "stderr",
     "output_type": "stream",
     "text": [
      "Epoch 0, global step 527: val/accuracy reached 0.25000 (best 0.25000), saving model to \"../output/lightning_logs/version_2/checkpoints/AMLClassifier-seq_len200-ovlp50-epoch=0-val/accuracy=0.250.ckpt\" as top 1\n"
     ]
    },
    {
     "name": "stdout",
     "output_type": "stream",
     "text": [
      "val/accuracy 0.25\n"
     ]
    },
    {
     "data": {
      "application/vnd.jupyter.widget-view+json": {
       "model_id": "dacd8f81d491410bab62eb5ef15cedaa",
       "version_major": 2,
       "version_minor": 0
      },
      "text/plain": [
       "Validating: 0it [00:00, ?it/s]"
      ]
     },
     "metadata": {},
     "output_type": "display_data"
    },
    {
     "name": "stderr",
     "output_type": "stream",
     "text": [
      "Epoch 1, global step 1055: val/accuracy reached 0.41667 (best 0.41667), saving model to \"../output/lightning_logs/version_2/checkpoints/AMLClassifier-seq_len200-ovlp50-epoch=1-val/accuracy=0.417.ckpt\" as top 1\n"
     ]
    },
    {
     "name": "stdout",
     "output_type": "stream",
     "text": [
      "val/accuracy 0.4166666567325592\n"
     ]
    },
    {
     "data": {
      "application/vnd.jupyter.widget-view+json": {
       "model_id": "f7b49bbd4c02449a93d8b6d91b26fb58",
       "version_major": 2,
       "version_minor": 0
      },
      "text/plain": [
       "Validating: 0it [00:00, ?it/s]"
      ]
     },
     "metadata": {},
     "output_type": "display_data"
    },
    {
     "name": "stderr",
     "output_type": "stream",
     "text": [
      "Epoch 2, global step 1583: val/accuracy reached 0.58333 (best 0.58333), saving model to \"../output/lightning_logs/version_2/checkpoints/AMLClassifier-seq_len200-ovlp50-epoch=2-val/accuracy=0.583.ckpt\" as top 1\n"
     ]
    },
    {
     "name": "stdout",
     "output_type": "stream",
     "text": [
      "val/accuracy 0.5833333134651184\n"
     ]
    },
    {
     "data": {
      "application/vnd.jupyter.widget-view+json": {
       "model_id": "67f061660a9f4e3d86019314bba66327",
       "version_major": 2,
       "version_minor": 0
      },
      "text/plain": [
       "Validating: 0it [00:00, ?it/s]"
      ]
     },
     "metadata": {},
     "output_type": "display_data"
    },
    {
     "name": "stderr",
     "output_type": "stream",
     "text": [
      "Epoch 3, step 2111: val/accuracy was not in top 1\n"
     ]
    },
    {
     "name": "stdout",
     "output_type": "stream",
     "text": [
      "val/accuracy 0.5\n"
     ]
    },
    {
     "data": {
      "application/vnd.jupyter.widget-view+json": {
       "model_id": "d67404b95c484619a519440a38b4ce98",
       "version_major": 2,
       "version_minor": 0
      },
      "text/plain": [
       "Validating: 0it [00:00, ?it/s]"
      ]
     },
     "metadata": {},
     "output_type": "display_data"
    },
    {
     "name": "stderr",
     "output_type": "stream",
     "text": [
      "Epoch 4, step 2639: val/accuracy was not in top 1\n"
     ]
    },
    {
     "name": "stdout",
     "output_type": "stream",
     "text": [
      "val/accuracy 0.5\n"
     ]
    },
    {
     "data": {
      "application/vnd.jupyter.widget-view+json": {
       "model_id": "1b756c1e19674498b5db50c7859dfe04",
       "version_major": 2,
       "version_minor": 0
      },
      "text/plain": [
       "Validating: 0it [00:00, ?it/s]"
      ]
     },
     "metadata": {},
     "output_type": "display_data"
    },
    {
     "name": "stderr",
     "output_type": "stream",
     "text": [
      "Epoch 5, step 3167: val/accuracy was not in top 1\n"
     ]
    },
    {
     "name": "stdout",
     "output_type": "stream",
     "text": [
      "val/accuracy 0.5\n"
     ]
    },
    {
     "data": {
      "application/vnd.jupyter.widget-view+json": {
       "model_id": "675f3bae047743af9e8c3d777bd32d2b",
       "version_major": 2,
       "version_minor": 0
      },
      "text/plain": [
       "Validating: 0it [00:00, ?it/s]"
      ]
     },
     "metadata": {},
     "output_type": "display_data"
    },
    {
     "name": "stderr",
     "output_type": "stream",
     "text": [
      "Epoch 6, step 3695: val/accuracy was not in top 1\n"
     ]
    },
    {
     "name": "stdout",
     "output_type": "stream",
     "text": [
      "val/accuracy 0.5\n"
     ]
    },
    {
     "data": {
      "application/vnd.jupyter.widget-view+json": {
       "model_id": "05bbac0822ae42b5b4795a8ec1309765",
       "version_major": 2,
       "version_minor": 0
      },
      "text/plain": [
       "Validating: 0it [00:00, ?it/s]"
      ]
     },
     "metadata": {},
     "output_type": "display_data"
    },
    {
     "name": "stderr",
     "output_type": "stream",
     "text": [
      "Epoch 7, step 4223: val/accuracy was not in top 1\n"
     ]
    },
    {
     "name": "stdout",
     "output_type": "stream",
     "text": [
      "val/accuracy 0.5\n"
     ]
    },
    {
     "data": {
      "application/vnd.jupyter.widget-view+json": {
       "model_id": "7318c1ab5f3b4a99ad348277e7576cc6",
       "version_major": 2,
       "version_minor": 0
      },
      "text/plain": [
       "Validating: 0it [00:00, ?it/s]"
      ]
     },
     "metadata": {},
     "output_type": "display_data"
    },
    {
     "name": "stderr",
     "output_type": "stream",
     "text": [
      "Epoch 8, step 4751: val/accuracy was not in top 1\n"
     ]
    },
    {
     "name": "stdout",
     "output_type": "stream",
     "text": [
      "val/accuracy 0.5\n"
     ]
    },
    {
     "data": {
      "application/vnd.jupyter.widget-view+json": {
       "model_id": "82f008c6856842f5b50635e3c334185b",
       "version_major": 2,
       "version_minor": 0
      },
      "text/plain": [
       "Validating: 0it [00:00, ?it/s]"
      ]
     },
     "metadata": {},
     "output_type": "display_data"
    },
    {
     "name": "stderr",
     "output_type": "stream",
     "text": [
      "Epoch 9, step 5279: val/accuracy was not in top 1\n"
     ]
    },
    {
     "name": "stdout",
     "output_type": "stream",
     "text": [
      "val/accuracy 0.5\n"
     ]
    },
    {
     "data": {
      "application/vnd.jupyter.widget-view+json": {
       "model_id": "fb8f1828121b48e0b8bbca36610c89b1",
       "version_major": 2,
       "version_minor": 0
      },
      "text/plain": [
       "Validating: 0it [00:00, ?it/s]"
      ]
     },
     "metadata": {},
     "output_type": "display_data"
    },
    {
     "name": "stderr",
     "output_type": "stream",
     "text": [
      "Epoch 10, step 5807: val/accuracy was not in top 1\n"
     ]
    },
    {
     "name": "stdout",
     "output_type": "stream",
     "text": [
      "val/accuracy 0.5\n"
     ]
    },
    {
     "data": {
      "application/vnd.jupyter.widget-view+json": {
       "model_id": "cc067d4ea3784d2cb7b61de6cbb3039f",
       "version_major": 2,
       "version_minor": 0
      },
      "text/plain": [
       "Validating: 0it [00:00, ?it/s]"
      ]
     },
     "metadata": {},
     "output_type": "display_data"
    },
    {
     "name": "stderr",
     "output_type": "stream",
     "text": [
      "Epoch 11, step 6335: val/accuracy was not in top 1\n"
     ]
    },
    {
     "name": "stdout",
     "output_type": "stream",
     "text": [
      "val/accuracy 0.5\n"
     ]
    },
    {
     "data": {
      "application/vnd.jupyter.widget-view+json": {
       "model_id": "14a157f7ca554c48a46b545d275863c8",
       "version_major": 2,
       "version_minor": 0
      },
      "text/plain": [
       "Validating: 0it [00:00, ?it/s]"
      ]
     },
     "metadata": {},
     "output_type": "display_data"
    },
    {
     "name": "stderr",
     "output_type": "stream",
     "text": [
      "Epoch 12, step 6863: val/accuracy was not in top 1\n"
     ]
    },
    {
     "name": "stdout",
     "output_type": "stream",
     "text": [
      "val/accuracy 0.5\n"
     ]
    },
    {
     "data": {
      "text/plain": [
       "1"
      ]
     },
     "execution_count": 13,
     "metadata": {},
     "output_type": "execute_result"
    }
   ],
   "source": [
    "trainer.fit(\n",
    "    model,\n",
    "    data_module.train_dataloader(),\n",
    "    data_module.val_dataloader(),\n",
    ")"
   ]
  },
  {
   "cell_type": "markdown",
   "metadata": {},
   "source": [
    "## Conclusions"
   ]
  },
  {
   "cell_type": "markdown",
   "metadata": {},
   "source": [
    "The training results of both the BBC (orange) and AML (red) models can be seen on the below snippet from Tensorboard:\n",
    "\n",
    "<img src='../data/tensorboard_results.PNG' width=\"650\"></img>\n",
    "\n",
    "The conclusions:\n",
    "* as expected, `batch_size=1` leads to volatilty in training - as seen in the loss graph\n",
    "* the BBC model managed to learn to effectively differentiate the classes, with loss coming down on both the training and validation sets\n",
    "* by comparison, the AML model displays significant signs of overfitting to results (with training loss converging and validation loss diverging) and a general poor quality of training (val loss above 1) - a likely result of massive upsampling and not enough data for effective training (or validation for that matter..)\n",
    "\n",
    "Possible further improvements for the AML model - apart from those mentioned in the PoC - include:\n",
    "* obviously - increasing and further diversifying the training and validation datasets\n",
    "* using data augmentation in combination with upsampling"
   ]
  }
 ],
 "metadata": {
  "interpreter": {
   "hash": "2596d97e8b679d214cacdb00e7871335a5232f771c8127b4fea5a93fba7bb57f"
  },
  "kernelspec": {
   "display_name": "Python 3.6.9 ('aml_venv')",
   "language": "python",
   "name": "python3"
  },
  "language_info": {
   "codemirror_mode": {
    "name": "ipython",
    "version": 3
   },
   "file_extension": ".py",
   "mimetype": "text/x-python",
   "name": "python",
   "nbconvert_exporter": "python",
   "pygments_lexer": "ipython3",
   "version": "3.8.10"
  },
  "orig_nbformat": 4
 },
 "nbformat": 4,
 "nbformat_minor": 2
}
